{
 "cells": [
  {
   "cell_type": "code",
   "execution_count": 1,
   "id": "c05c6e52",
   "metadata": {},
   "outputs": [
    {
     "name": "stdout",
     "output_type": "stream",
     "text": [
      "Enter numbers in list: 6 3 2\n",
      "The largest number in the list is: 6\n"
     ]
    }
   ],
   "source": [
    "num = input(\"Enter numbers in list: \")\n",
    "\n",
    "num_list = list(map(int, num.split()))\n",
    "\n",
    "largest = max(num_list)  \n",
    "\n",
    "print(\"The largest number in the list is:\", largest)"
   ]
  },
  {
   "cell_type": "code",
   "execution_count": 5,
   "id": "2a1ce098",
   "metadata": {},
   "outputs": [
    {
     "name": "stdout",
     "output_type": "stream",
     "text": [
      "Enter numbers in list :2,3,6\n",
      "The largest number in the list is: 6\n"
     ]
    }
   ],
   "source": [
    "num = input(\"Enter numbers in list :\")\n",
    "\n",
    "num_list=list(map(int,num.split(',')))\n",
    "\n",
    "largest = num_list[0]\n",
    "\n",
    "for num in num_list:\n",
    "    if num > largest:\n",
    "        largest=num\n",
    "\n",
    "print(\"The largest number in the list is:\", largest)"
   ]
  },
  {
   "cell_type": "code",
   "execution_count": 6,
   "id": "c2c3b560",
   "metadata": {},
   "outputs": [
    {
     "name": "stdout",
     "output_type": "stream",
     "text": [
      "Enter numbers in list: 3 4 5\n",
      "Unique numbers in list : [3, 4, 5]\n"
     ]
    }
   ],
   "source": [
    "num = input(\"Enter numbers in list: \")\n",
    "\n",
    "num_list = list(map(int, num.split()))\n",
    "\n",
    "uniq_list=list(set(num_list))\n",
    "\n",
    "uniq_list.sort()\n",
    "\n",
    "print(\"Unique numbers in list :\",uniq_list)"
   ]
  },
  {
   "cell_type": "code",
   "execution_count": 7,
   "id": "064a3c45",
   "metadata": {},
   "outputs": [
    {
     "name": "stdout",
     "output_type": "stream",
     "text": [
      "Enter numbers in list :5 4 3\n",
      "Unique numbers in list : [5, 4, 3]\n"
     ]
    }
   ],
   "source": [
    "num = input(\"Enter numbers in list :\")\n",
    "\n",
    "num_list=list(map(int,num.split()))\n",
    "\n",
    "uniq_list = []\n",
    "\n",
    "for n in num_list:\n",
    "    if n not in uniq_list:\n",
    "        uniq_list.append(n)\n",
    "\n",
    "print(\"Unique numbers in list :\",uniq_list)"
   ]
  },
  {
   "cell_type": "code",
   "execution_count": null,
   "id": "dbfd784c",
   "metadata": {},
   "outputs": [],
   "source": []
  }
 ],
 "metadata": {
  "kernelspec": {
   "display_name": "Python 3 (ipykernel)",
   "language": "python",
   "name": "python3"
  },
  "language_info": {
   "codemirror_mode": {
    "name": "ipython",
    "version": 3
   },
   "file_extension": ".py",
   "mimetype": "text/x-python",
   "name": "python",
   "nbconvert_exporter": "python",
   "pygments_lexer": "ipython3",
   "version": "3.11.4"
  }
 },
 "nbformat": 4,
 "nbformat_minor": 5
}
