{
 "cells": [
  {
   "cell_type": "code",
   "execution_count": 1,
   "id": "1f1e2ad3",
   "metadata": {},
   "outputs": [
    {
     "name": "stdout",
     "output_type": "stream",
     "text": [
      "enter a number:2\n",
      "enter another number:3\n",
      "sum: 5\n"
     ]
    }
   ],
   "source": [
    "#arithmetic\n",
    "a=int(input(\"enter a number:\"))\n",
    "b=int(input(\"enter another number:\"))\n",
    "c=a+b\n",
    "print(\"sum:\",c)"
   ]
  },
  {
   "cell_type": "code",
   "execution_count": 2,
   "id": "668bf353",
   "metadata": {},
   "outputs": [
    {
     "name": "stdout",
     "output_type": "stream",
     "text": [
      "enter a number:3\n",
      "enter another number:1\n",
      "result: 2\n"
     ]
    }
   ],
   "source": [
    "a=int(input(\"enter a number:\"))\n",
    "b=int(input(\"enter another number:\"))\n",
    "c=a-b\n",
    "print(\"result:\",c)"
   ]
  },
  {
   "cell_type": "code",
   "execution_count": 3,
   "id": "9aa28dff",
   "metadata": {},
   "outputs": [
    {
     "name": "stdout",
     "output_type": "stream",
     "text": [
      "enter a number:10\n",
      "enter another number:2\n",
      "result: 5.0\n"
     ]
    }
   ],
   "source": [
    "a=int(input(\"enter a number:\"))\n",
    "b=int(input(\"enter another number:\"))\n",
    "c=a/b\n",
    "print(\"result:\",c)"
   ]
  },
  {
   "cell_type": "code",
   "execution_count": 6,
   "id": "19468d03",
   "metadata": {},
   "outputs": [
    {
     "name": "stdout",
     "output_type": "stream",
     "text": [
      "enter a number:200\n",
      "enter another number:3\n",
      "result: 2\n"
     ]
    }
   ],
   "source": [
    "a=int(input(\"enter a number:\"))\n",
    "b=int(input(\"enter another number:\"))\n",
    "c=a%b\n",
    "print(\"result:\",c)"
   ]
  },
  {
   "cell_type": "code",
   "execution_count": 7,
   "id": "691be2f6",
   "metadata": {},
   "outputs": [
    {
     "name": "stdout",
     "output_type": "stream",
     "text": [
      "enter a number:3\n",
      "enter another number:4\n",
      "result: 12\n"
     ]
    }
   ],
   "source": [
    "a=int(input(\"enter a number:\"))\n",
    "b=int(input(\"enter another number:\"))\n",
    "c=a*b\n",
    "print(\"result:\",c)"
   ]
  },
  {
   "cell_type": "code",
   "execution_count": 21,
   "id": "dd8b01ae",
   "metadata": {},
   "outputs": [
    {
     "name": "stdout",
     "output_type": "stream",
     "text": [
      "enter a word:frina\n",
      "enter another word:aysha\n",
      "frina aysha\n",
      "arina fysha\n",
      "['arina', 'fysha']\n",
      "5\n",
      "FRINA\n",
      "aysha\n"
     ]
    }
   ],
   "source": [
    "#string\n",
    "a=input(\"enter a word:\")\n",
    "b=input(\"enter another word:\")\n",
    "c=a+\" \"+b\n",
    "print(c)\n",
    "#swap\n",
    "d=b[0]+a[1:]+\" \"+a[0]+b[1: ]\n",
    "print(d)\n",
    "#split\n",
    "e=d.split()\n",
    "print(e)\n",
    "#length\n",
    "print(len(b))\n",
    "#uppercase\n",
    "print(a.upper())\n",
    "#lowercase\n",
    "print(b.lower())"
   ]
  },
  {
   "cell_type": "code",
   "execution_count": 31,
   "id": "b707a39e",
   "metadata": {},
   "outputs": [
    {
     "name": "stdout",
     "output_type": "stream",
     "text": [
      "12 is greater\n"
     ]
    }
   ],
   "source": [
    "#boolean\n",
    "a=5\n",
    "b=10\n",
    "c=12\n",
    "if(a>b and a>c):\n",
    "    print(f\"{a} is greater\")\n",
    "elif(b>a and b>c):\n",
    "    print(f\"{b} is greater\")\n",
    "else:\n",
    "    print(f\"{c} is greater\")"
   ]
  },
  {
   "cell_type": "code",
   "execution_count": 1,
   "id": "fc61b7fe",
   "metadata": {},
   "outputs": [
    {
     "name": "stdout",
     "output_type": "stream",
     "text": [
      "enter 3 words:frina aysha nihala\n",
      "{'frina', 'aysha', 'nihala'}\n",
      "('frina', 'aysha', 'nihala')\n",
      "['frina', 'aysha', 'nihala']\n",
      "{1: 'frina', 2: 'aysha', 3: 'nihala'}\n"
     ]
    }
   ],
   "source": [
    "#set\n",
    "a=input(\"enter 3 words:\").split(\" \")\n",
    "#set\n",
    "b=set(a)\n",
    "print(b)\n",
    "#tuple\n",
    "c=tuple(a)\n",
    "print(c)\n",
    "#list\n",
    "d=list(a)\n",
    "print(d)\n",
    "e={1:a[0],2:a[1],3:a[2]}\n",
    "print(e)"
   ]
  },
  {
   "cell_type": "code",
   "execution_count": null,
   "id": "0c00c5e6",
   "metadata": {},
   "outputs": [],
   "source": []
  },
  {
   "cell_type": "code",
   "execution_count": null,
   "id": "b8f98d98",
   "metadata": {},
   "outputs": [],
   "source": []
  }
 ],
 "metadata": {
  "kernelspec": {
   "display_name": "Python 3 (ipykernel)",
   "language": "python",
   "name": "python3"
  },
  "language_info": {
   "codemirror_mode": {
    "name": "ipython",
    "version": 3
   },
   "file_extension": ".py",
   "mimetype": "text/x-python",
   "name": "python",
   "nbconvert_exporter": "python",
   "pygments_lexer": "ipython3",
   "version": "3.11.4"
  }
 },
 "nbformat": 4,
 "nbformat_minor": 5
}
